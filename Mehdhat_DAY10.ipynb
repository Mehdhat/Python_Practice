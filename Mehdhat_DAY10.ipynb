{
  "nbformat": 4,
  "nbformat_minor": 0,
  "metadata": {
    "colab": {
      "provenance": []
    },
    "kernelspec": {
      "name": "python3",
      "display_name": "Python 3"
    },
    "language_info": {
      "name": "python"
    }
  },
  "cells": [
    {
      "cell_type": "code",
      "execution_count": null,
      "metadata": {
        "id": "6G03Mt_JFCkA"
      },
      "outputs": [],
      "source": [
        "import numpy as np\n",
        "import pandas as pd\n",
        "import matplotlib.pyplot as plt\n",
        "import seaborn as sns\n",
        "from sklearn import metrics\n",
        "\n",
        "from sklearn import metrics\n",
        "from sklearn.model_selection import train_test_split\n",
        "from sklearn.linear_model import LinearRegression\n",
        "from sklearn.linear_model import LogisticRegression"
      ]
    },
    {
      "cell_type": "code",
      "source": [
        "from google.colab import drive\n",
        "drive.mount('/content/drive')"
      ],
      "metadata": {
        "colab": {
          "base_uri": "https://localhost:8080/"
        },
        "id": "B9N-t5D_IZg8",
        "outputId": "7e92b973-f97e-48d0-cebd-5df8685c781a"
      },
      "execution_count": 4,
      "outputs": [
        {
          "output_type": "stream",
          "name": "stdout",
          "text": [
            "Drive already mounted at /content/drive; to attempt to forcibly remount, call drive.mount(\"/content/drive\", force_remount=True).\n"
          ]
        }
      ]
    },
    {
      "cell_type": "code",
      "source": [
        "import pandas as pd\n",
        "\n",
        "data = pd.read_csv('/content/drive/MyDrive/sub.csv')\n",
        "\n",
        "print(data.head())"
      ],
      "metadata": {
        "colab": {
          "base_uri": "https://localhost:8080/"
        },
        "id": "prAs8DnjIuCI",
        "outputId": "22c52c04-edde-439c-cc7e-943199111320"
      },
      "execution_count": 5,
      "outputs": [
        {
          "output_type": "stream",
          "name": "stdout",
          "text": [
            "   test_id      price\n",
            "0        0  23.182890\n",
            "1        1  23.182890\n",
            "2        2  23.182890\n",
            "3        3  30.165674\n",
            "4        4  21.463263\n"
          ]
        }
      ]
    },
    {
      "cell_type": "code",
      "source": [
        "data.info()"
      ],
      "metadata": {
        "colab": {
          "base_uri": "https://localhost:8080/"
        },
        "id": "OCY5EkJMKJLL",
        "outputId": "1066b396-3fea-4baa-ecb7-bb2ac79da53b"
      },
      "execution_count": null,
      "outputs": [
        {
          "output_type": "stream",
          "name": "stdout",
          "text": [
            "<class 'pandas.core.frame.DataFrame'>\n",
            "RangeIndex: 693359 entries, 0 to 693358\n",
            "Data columns (total 2 columns):\n",
            " #   Column   Non-Null Count   Dtype  \n",
            "---  ------   --------------   -----  \n",
            " 0   test_id  693359 non-null  int64  \n",
            " 1   price    693359 non-null  float64\n",
            "dtypes: float64(1), int64(1)\n",
            "memory usage: 10.6 MB\n"
          ]
        }
      ]
    },
    {
      "cell_type": "code",
      "source": [
        "data.describe()"
      ],
      "metadata": {
        "colab": {
          "base_uri": "https://localhost:8080/",
          "height": 300
        },
        "id": "TogOhLfcKMl_",
        "outputId": "ab93b82f-da6f-4ffd-c050-edcb6ca62380"
      },
      "execution_count": null,
      "outputs": [
        {
          "output_type": "execute_result",
          "data": {
            "text/plain": [
              "             test_id          price\n",
              "count  693359.000000  693359.000000\n",
              "mean   346679.000000      26.735129\n",
              "std    200155.646985       3.829489\n",
              "min         0.000000      19.743637\n",
              "25%    173339.500000      23.182890\n",
              "50%    346679.000000      29.305861\n",
              "75%    520018.500000      30.165674\n",
              "max    693358.000000      31.025487"
            ],
            "text/html": [
              "\n",
              "  <div id=\"df-b6ad5ea9-828e-4cb5-9182-ffacc970a4a7\" class=\"colab-df-container\">\n",
              "    <div>\n",
              "<style scoped>\n",
              "    .dataframe tbody tr th:only-of-type {\n",
              "        vertical-align: middle;\n",
              "    }\n",
              "\n",
              "    .dataframe tbody tr th {\n",
              "        vertical-align: top;\n",
              "    }\n",
              "\n",
              "    .dataframe thead th {\n",
              "        text-align: right;\n",
              "    }\n",
              "</style>\n",
              "<table border=\"1\" class=\"dataframe\">\n",
              "  <thead>\n",
              "    <tr style=\"text-align: right;\">\n",
              "      <th></th>\n",
              "      <th>test_id</th>\n",
              "      <th>price</th>\n",
              "    </tr>\n",
              "  </thead>\n",
              "  <tbody>\n",
              "    <tr>\n",
              "      <th>count</th>\n",
              "      <td>693359.000000</td>\n",
              "      <td>693359.000000</td>\n",
              "    </tr>\n",
              "    <tr>\n",
              "      <th>mean</th>\n",
              "      <td>346679.000000</td>\n",
              "      <td>26.735129</td>\n",
              "    </tr>\n",
              "    <tr>\n",
              "      <th>std</th>\n",
              "      <td>200155.646985</td>\n",
              "      <td>3.829489</td>\n",
              "    </tr>\n",
              "    <tr>\n",
              "      <th>min</th>\n",
              "      <td>0.000000</td>\n",
              "      <td>19.743637</td>\n",
              "    </tr>\n",
              "    <tr>\n",
              "      <th>25%</th>\n",
              "      <td>173339.500000</td>\n",
              "      <td>23.182890</td>\n",
              "    </tr>\n",
              "    <tr>\n",
              "      <th>50%</th>\n",
              "      <td>346679.000000</td>\n",
              "      <td>29.305861</td>\n",
              "    </tr>\n",
              "    <tr>\n",
              "      <th>75%</th>\n",
              "      <td>520018.500000</td>\n",
              "      <td>30.165674</td>\n",
              "    </tr>\n",
              "    <tr>\n",
              "      <th>max</th>\n",
              "      <td>693358.000000</td>\n",
              "      <td>31.025487</td>\n",
              "    </tr>\n",
              "  </tbody>\n",
              "</table>\n",
              "</div>\n",
              "    <div class=\"colab-df-buttons\">\n",
              "\n",
              "  <div class=\"colab-df-container\">\n",
              "    <button class=\"colab-df-convert\" onclick=\"convertToInteractive('df-b6ad5ea9-828e-4cb5-9182-ffacc970a4a7')\"\n",
              "            title=\"Convert this dataframe to an interactive table.\"\n",
              "            style=\"display:none;\">\n",
              "\n",
              "  <svg xmlns=\"http://www.w3.org/2000/svg\" height=\"24px\" viewBox=\"0 -960 960 960\">\n",
              "    <path d=\"M120-120v-720h720v720H120Zm60-500h600v-160H180v160Zm220 220h160v-160H400v160Zm0 220h160v-160H400v160ZM180-400h160v-160H180v160Zm440 0h160v-160H620v160ZM180-180h160v-160H180v160Zm440 0h160v-160H620v160Z\"/>\n",
              "  </svg>\n",
              "    </button>\n",
              "\n",
              "  <style>\n",
              "    .colab-df-container {\n",
              "      display:flex;\n",
              "      gap: 12px;\n",
              "    }\n",
              "\n",
              "    .colab-df-convert {\n",
              "      background-color: #E8F0FE;\n",
              "      border: none;\n",
              "      border-radius: 50%;\n",
              "      cursor: pointer;\n",
              "      display: none;\n",
              "      fill: #1967D2;\n",
              "      height: 32px;\n",
              "      padding: 0 0 0 0;\n",
              "      width: 32px;\n",
              "    }\n",
              "\n",
              "    .colab-df-convert:hover {\n",
              "      background-color: #E2EBFA;\n",
              "      box-shadow: 0px 1px 2px rgba(60, 64, 67, 0.3), 0px 1px 3px 1px rgba(60, 64, 67, 0.15);\n",
              "      fill: #174EA6;\n",
              "    }\n",
              "\n",
              "    .colab-df-buttons div {\n",
              "      margin-bottom: 4px;\n",
              "    }\n",
              "\n",
              "    [theme=dark] .colab-df-convert {\n",
              "      background-color: #3B4455;\n",
              "      fill: #D2E3FC;\n",
              "    }\n",
              "\n",
              "    [theme=dark] .colab-df-convert:hover {\n",
              "      background-color: #434B5C;\n",
              "      box-shadow: 0px 1px 3px 1px rgba(0, 0, 0, 0.15);\n",
              "      filter: drop-shadow(0px 1px 2px rgba(0, 0, 0, 0.3));\n",
              "      fill: #FFFFFF;\n",
              "    }\n",
              "  </style>\n",
              "\n",
              "    <script>\n",
              "      const buttonEl =\n",
              "        document.querySelector('#df-b6ad5ea9-828e-4cb5-9182-ffacc970a4a7 button.colab-df-convert');\n",
              "      buttonEl.style.display =\n",
              "        google.colab.kernel.accessAllowed ? 'block' : 'none';\n",
              "\n",
              "      async function convertToInteractive(key) {\n",
              "        const element = document.querySelector('#df-b6ad5ea9-828e-4cb5-9182-ffacc970a4a7');\n",
              "        const dataTable =\n",
              "          await google.colab.kernel.invokeFunction('convertToInteractive',\n",
              "                                                    [key], {});\n",
              "        if (!dataTable) return;\n",
              "\n",
              "        const docLinkHtml = 'Like what you see? Visit the ' +\n",
              "          '<a target=\"_blank\" href=https://colab.research.google.com/notebooks/data_table.ipynb>data table notebook</a>'\n",
              "          + ' to learn more about interactive tables.';\n",
              "        element.innerHTML = '';\n",
              "        dataTable['output_type'] = 'display_data';\n",
              "        await google.colab.output.renderOutput(dataTable, element);\n",
              "        const docLink = document.createElement('div');\n",
              "        docLink.innerHTML = docLinkHtml;\n",
              "        element.appendChild(docLink);\n",
              "      }\n",
              "    </script>\n",
              "  </div>\n",
              "\n",
              "\n",
              "<div id=\"df-346b0361-4b9a-451d-99d6-a71aabf449c0\">\n",
              "  <button class=\"colab-df-quickchart\" onclick=\"quickchart('df-346b0361-4b9a-451d-99d6-a71aabf449c0')\"\n",
              "            title=\"Suggest charts\"\n",
              "            style=\"display:none;\">\n",
              "\n",
              "<svg xmlns=\"http://www.w3.org/2000/svg\" height=\"24px\"viewBox=\"0 0 24 24\"\n",
              "     width=\"24px\">\n",
              "    <g>\n",
              "        <path d=\"M19 3H5c-1.1 0-2 .9-2 2v14c0 1.1.9 2 2 2h14c1.1 0 2-.9 2-2V5c0-1.1-.9-2-2-2zM9 17H7v-7h2v7zm4 0h-2V7h2v10zm4 0h-2v-4h2v4z\"/>\n",
              "    </g>\n",
              "</svg>\n",
              "  </button>\n",
              "\n",
              "<style>\n",
              "  .colab-df-quickchart {\n",
              "      --bg-color: #E8F0FE;\n",
              "      --fill-color: #1967D2;\n",
              "      --hover-bg-color: #E2EBFA;\n",
              "      --hover-fill-color: #174EA6;\n",
              "      --disabled-fill-color: #AAA;\n",
              "      --disabled-bg-color: #DDD;\n",
              "  }\n",
              "\n",
              "  [theme=dark] .colab-df-quickchart {\n",
              "      --bg-color: #3B4455;\n",
              "      --fill-color: #D2E3FC;\n",
              "      --hover-bg-color: #434B5C;\n",
              "      --hover-fill-color: #FFFFFF;\n",
              "      --disabled-bg-color: #3B4455;\n",
              "      --disabled-fill-color: #666;\n",
              "  }\n",
              "\n",
              "  .colab-df-quickchart {\n",
              "    background-color: var(--bg-color);\n",
              "    border: none;\n",
              "    border-radius: 50%;\n",
              "    cursor: pointer;\n",
              "    display: none;\n",
              "    fill: var(--fill-color);\n",
              "    height: 32px;\n",
              "    padding: 0;\n",
              "    width: 32px;\n",
              "  }\n",
              "\n",
              "  .colab-df-quickchart:hover {\n",
              "    background-color: var(--hover-bg-color);\n",
              "    box-shadow: 0 1px 2px rgba(60, 64, 67, 0.3), 0 1px 3px 1px rgba(60, 64, 67, 0.15);\n",
              "    fill: var(--button-hover-fill-color);\n",
              "  }\n",
              "\n",
              "  .colab-df-quickchart-complete:disabled,\n",
              "  .colab-df-quickchart-complete:disabled:hover {\n",
              "    background-color: var(--disabled-bg-color);\n",
              "    fill: var(--disabled-fill-color);\n",
              "    box-shadow: none;\n",
              "  }\n",
              "\n",
              "  .colab-df-spinner {\n",
              "    border: 2px solid var(--fill-color);\n",
              "    border-color: transparent;\n",
              "    border-bottom-color: var(--fill-color);\n",
              "    animation:\n",
              "      spin 1s steps(1) infinite;\n",
              "  }\n",
              "\n",
              "  @keyframes spin {\n",
              "    0% {\n",
              "      border-color: transparent;\n",
              "      border-bottom-color: var(--fill-color);\n",
              "      border-left-color: var(--fill-color);\n",
              "    }\n",
              "    20% {\n",
              "      border-color: transparent;\n",
              "      border-left-color: var(--fill-color);\n",
              "      border-top-color: var(--fill-color);\n",
              "    }\n",
              "    30% {\n",
              "      border-color: transparent;\n",
              "      border-left-color: var(--fill-color);\n",
              "      border-top-color: var(--fill-color);\n",
              "      border-right-color: var(--fill-color);\n",
              "    }\n",
              "    40% {\n",
              "      border-color: transparent;\n",
              "      border-right-color: var(--fill-color);\n",
              "      border-top-color: var(--fill-color);\n",
              "    }\n",
              "    60% {\n",
              "      border-color: transparent;\n",
              "      border-right-color: var(--fill-color);\n",
              "    }\n",
              "    80% {\n",
              "      border-color: transparent;\n",
              "      border-right-color: var(--fill-color);\n",
              "      border-bottom-color: var(--fill-color);\n",
              "    }\n",
              "    90% {\n",
              "      border-color: transparent;\n",
              "      border-bottom-color: var(--fill-color);\n",
              "    }\n",
              "  }\n",
              "</style>\n",
              "\n",
              "  <script>\n",
              "    async function quickchart(key) {\n",
              "      const quickchartButtonEl =\n",
              "        document.querySelector('#' + key + ' button');\n",
              "      quickchartButtonEl.disabled = true;  // To prevent multiple clicks.\n",
              "      quickchartButtonEl.classList.add('colab-df-spinner');\n",
              "      try {\n",
              "        const charts = await google.colab.kernel.invokeFunction(\n",
              "            'suggestCharts', [key], {});\n",
              "      } catch (error) {\n",
              "        console.error('Error during call to suggestCharts:', error);\n",
              "      }\n",
              "      quickchartButtonEl.classList.remove('colab-df-spinner');\n",
              "      quickchartButtonEl.classList.add('colab-df-quickchart-complete');\n",
              "    }\n",
              "    (() => {\n",
              "      let quickchartButtonEl =\n",
              "        document.querySelector('#df-346b0361-4b9a-451d-99d6-a71aabf449c0 button');\n",
              "      quickchartButtonEl.style.display =\n",
              "        google.colab.kernel.accessAllowed ? 'block' : 'none';\n",
              "    })();\n",
              "  </script>\n",
              "</div>\n",
              "\n",
              "    </div>\n",
              "  </div>\n"
            ],
            "application/vnd.google.colaboratory.intrinsic+json": {
              "type": "dataframe",
              "summary": "{\n  \"name\": \"data\",\n  \"rows\": 8,\n  \"fields\": [\n    {\n      \"column\": \"test_id\",\n      \"properties\": {\n        \"dtype\": \"number\",\n        \"std\": 249889.7192662366,\n        \"min\": 0.0,\n        \"max\": 693359.0,\n        \"num_unique_values\": 7,\n        \"samples\": [\n          693359.0,\n          346679.0,\n          520018.5\n        ],\n        \"semantic_type\": \"\",\n        \"description\": \"\"\n      }\n    },\n    {\n      \"column\": \"price\",\n      \"properties\": {\n        \"dtype\": \"number\",\n        \"std\": 245131.14285443132,\n        \"min\": 3.8294891146552836,\n        \"max\": 693359.0,\n        \"num_unique_values\": 8,\n        \"samples\": [\n          26.735128596500452,\n          29.30586050674153,\n          693359.0\n        ],\n        \"semantic_type\": \"\",\n        \"description\": \"\"\n      }\n    }\n  ]\n}"
            }
          },
          "metadata": {},
          "execution_count": 5
        }
      ]
    },
    {
      "cell_type": "code",
      "source": [
        "import pandas as pd\n",
        "from sklearn.model_selection import train_test_split\n",
        "\n",
        "abc = x_train, x_test, y_train, y_test = train_test_split(data['test_id'], data['price'], test_size=0.2, random_state=40)\n",
        "abc"
      ],
      "metadata": {
        "colab": {
          "base_uri": "https://localhost:8080/"
        },
        "id": "XsIvtTl8KhNL",
        "outputId": "42e4c0b8-e1d4-4510-e712-ea3e5efd17a1"
      },
      "execution_count": null,
      "outputs": [
        {
          "output_type": "execute_result",
          "data": {
            "text/plain": [
              "[75851      75851\n",
              " 177560    177560\n",
              " 458942    458942\n",
              " 547034    547034\n",
              " 225179    225179\n",
              "            ...  \n",
              " 200211    200211\n",
              " 137031    137031\n",
              " 666892    666892\n",
              " 114369    114369\n",
              " 473253    473253\n",
              " Name: test_id, Length: 554687, dtype: int64,\n",
              " 76868      76868\n",
              " 111206    111206\n",
              " 649908    649908\n",
              " 558301    558301\n",
              " 30869      30869\n",
              "            ...  \n",
              " 301568    301568\n",
              " 167701    167701\n",
              " 471692    471692\n",
              " 405837    405837\n",
              " 195913    195913\n",
              " Name: test_id, Length: 138672, dtype: int64,\n",
              " 75851     22.323077\n",
              " 177560    23.182890\n",
              " 458942    29.305861\n",
              " 547034    30.165674\n",
              " 225179    31.025487\n",
              "             ...    \n",
              " 200211    30.165674\n",
              " 137031    28.446047\n",
              " 666892    30.165674\n",
              " 114369    21.463263\n",
              " 473253    21.463263\n",
              " Name: price, Length: 554687, dtype: float64,\n",
              " 76868     29.305861\n",
              " 111206    30.165674\n",
              " 649908    30.165674\n",
              " 558301    29.305861\n",
              " 30869     28.446047\n",
              "             ...    \n",
              " 301568    22.323077\n",
              " 167701    23.182890\n",
              " 471692    21.463263\n",
              " 405837    29.305861\n",
              " 195913    23.182890\n",
              " Name: price, Length: 138672, dtype: float64]"
            ]
          },
          "metadata": {},
          "execution_count": 6
        }
      ]
    },
    {
      "source": [
        "import pandas as pd\n",
        "from sklearn.linear_model import LinearRegression\n",
        "\n",
        "linear_model = LinearRegression()\n",
        "linear_model.fit(x_train.values.reshape(-1,1),y_train)"
      ],
      "cell_type": "code",
      "metadata": {
        "colab": {
          "base_uri": "https://localhost:8080/",
          "height": 74
        },
        "id": "ZrJv9j5vK_dE",
        "outputId": "6fb9e566-9bb5-47e2-c9a8-689fe7c89afa"
      },
      "execution_count": null,
      "outputs": [
        {
          "output_type": "execute_result",
          "data": {
            "text/plain": [
              "LinearRegression()"
            ],
            "text/html": [
              "<style>#sk-container-id-2 {color: black;}#sk-container-id-2 pre{padding: 0;}#sk-container-id-2 div.sk-toggleable {background-color: white;}#sk-container-id-2 label.sk-toggleable__label {cursor: pointer;display: block;width: 100%;margin-bottom: 0;padding: 0.3em;box-sizing: border-box;text-align: center;}#sk-container-id-2 label.sk-toggleable__label-arrow:before {content: \"▸\";float: left;margin-right: 0.25em;color: #696969;}#sk-container-id-2 label.sk-toggleable__label-arrow:hover:before {color: black;}#sk-container-id-2 div.sk-estimator:hover label.sk-toggleable__label-arrow:before {color: black;}#sk-container-id-2 div.sk-toggleable__content {max-height: 0;max-width: 0;overflow: hidden;text-align: left;background-color: #f0f8ff;}#sk-container-id-2 div.sk-toggleable__content pre {margin: 0.2em;color: black;border-radius: 0.25em;background-color: #f0f8ff;}#sk-container-id-2 input.sk-toggleable__control:checked~div.sk-toggleable__content {max-height: 200px;max-width: 100%;overflow: auto;}#sk-container-id-2 input.sk-toggleable__control:checked~label.sk-toggleable__label-arrow:before {content: \"▾\";}#sk-container-id-2 div.sk-estimator input.sk-toggleable__control:checked~label.sk-toggleable__label {background-color: #d4ebff;}#sk-container-id-2 div.sk-label input.sk-toggleable__control:checked~label.sk-toggleable__label {background-color: #d4ebff;}#sk-container-id-2 input.sk-hidden--visually {border: 0;clip: rect(1px 1px 1px 1px);clip: rect(1px, 1px, 1px, 1px);height: 1px;margin: -1px;overflow: hidden;padding: 0;position: absolute;width: 1px;}#sk-container-id-2 div.sk-estimator {font-family: monospace;background-color: #f0f8ff;border: 1px dotted black;border-radius: 0.25em;box-sizing: border-box;margin-bottom: 0.5em;}#sk-container-id-2 div.sk-estimator:hover {background-color: #d4ebff;}#sk-container-id-2 div.sk-parallel-item::after {content: \"\";width: 100%;border-bottom: 1px solid gray;flex-grow: 1;}#sk-container-id-2 div.sk-label:hover label.sk-toggleable__label {background-color: #d4ebff;}#sk-container-id-2 div.sk-serial::before {content: \"\";position: absolute;border-left: 1px solid gray;box-sizing: border-box;top: 0;bottom: 0;left: 50%;z-index: 0;}#sk-container-id-2 div.sk-serial {display: flex;flex-direction: column;align-items: center;background-color: white;padding-right: 0.2em;padding-left: 0.2em;position: relative;}#sk-container-id-2 div.sk-item {position: relative;z-index: 1;}#sk-container-id-2 div.sk-parallel {display: flex;align-items: stretch;justify-content: center;background-color: white;position: relative;}#sk-container-id-2 div.sk-item::before, #sk-container-id-2 div.sk-parallel-item::before {content: \"\";position: absolute;border-left: 1px solid gray;box-sizing: border-box;top: 0;bottom: 0;left: 50%;z-index: -1;}#sk-container-id-2 div.sk-parallel-item {display: flex;flex-direction: column;z-index: 1;position: relative;background-color: white;}#sk-container-id-2 div.sk-parallel-item:first-child::after {align-self: flex-end;width: 50%;}#sk-container-id-2 div.sk-parallel-item:last-child::after {align-self: flex-start;width: 50%;}#sk-container-id-2 div.sk-parallel-item:only-child::after {width: 0;}#sk-container-id-2 div.sk-dashed-wrapped {border: 1px dashed gray;margin: 0 0.4em 0.5em 0.4em;box-sizing: border-box;padding-bottom: 0.4em;background-color: white;}#sk-container-id-2 div.sk-label label {font-family: monospace;font-weight: bold;display: inline-block;line-height: 1.2em;}#sk-container-id-2 div.sk-label-container {text-align: center;}#sk-container-id-2 div.sk-container {/* jupyter's `normalize.less` sets `[hidden] { display: none; }` but bootstrap.min.css set `[hidden] { display: none !important; }` so we also need the `!important` here to be able to override the default hidden behavior on the sphinx rendered scikit-learn.org. See: https://github.com/scikit-learn/scikit-learn/issues/21755 */display: inline-block !important;position: relative;}#sk-container-id-2 div.sk-text-repr-fallback {display: none;}</style><div id=\"sk-container-id-2\" class=\"sk-top-container\"><div class=\"sk-text-repr-fallback\"><pre>LinearRegression()</pre><b>In a Jupyter environment, please rerun this cell to show the HTML representation or trust the notebook. <br />On GitHub, the HTML representation is unable to render, please try loading this page with nbviewer.org.</b></div><div class=\"sk-container\" hidden><div class=\"sk-item\"><div class=\"sk-estimator sk-toggleable\"><input class=\"sk-toggleable__control sk-hidden--visually\" id=\"sk-estimator-id-2\" type=\"checkbox\" checked><label for=\"sk-estimator-id-2\" class=\"sk-toggleable__label sk-toggleable__label-arrow\">LinearRegression</label><div class=\"sk-toggleable__content\"><pre>LinearRegression()</pre></div></div></div></div></div>"
            ]
          },
          "metadata": {},
          "execution_count": 9
        }
      ]
    },
    {
      "cell_type": "code",
      "source": [
        "price = float(input(\"Enter the test_id\t: \"))\n",
        "\n",
        "predicted_test_id = linear_model.predict([[price]])[0]\n",
        "print(\"Predicted test_id:\", predicted_test_id)"
      ],
      "metadata": {
        "colab": {
          "base_uri": "https://localhost:8080/"
        },
        "id": "Mfoom_J-LGdV",
        "outputId": "ede4004e-6500-43e0-a39a-ee0b882c80ba"
      },
      "execution_count": null,
      "outputs": [
        {
          "output_type": "stream",
          "name": "stdout",
          "text": [
            "Enter the test_id\t: 4\n",
            "Predicted test_id: 26.740656997402162\n"
          ]
        }
      ]
    },
    {
      "cell_type": "code",
      "source": [
        "import pandas as pd\n",
        "import matplotlib.pyplot as plt\n",
        "\n",
        "from google.colab import drive\n",
        "drive.mount('/content/drive')\n",
        "\n",
        "data = pd.read_csv('/content/drive/MyDrive/sub.csv')\n",
        "\n",
        "plt.scatter(data['test_id'], data['price'])\n",
        "plt.plot(data['test_id'], (data['test_id'].values.reshape(-3, 1)), color='red')\n",
        "plt.xlabel('test_id')\n",
        "plt.ylabel('price')\n",
        "plt.title('Linear Regression: test_id VS price')\n",
        "plt.show()"
      ],
      "metadata": {
        "colab": {
          "base_uri": "https://localhost:8080/",
          "height": 489
        },
        "id": "RqbVA_RNLrKc",
        "outputId": "b2565baf-1465-460f-ebf4-dafc345d6681"
      },
      "execution_count": null,
      "outputs": [
        {
          "output_type": "stream",
          "name": "stdout",
          "text": [
            "Drive already mounted at /content/drive; to attempt to forcibly remount, call drive.mount(\"/content/drive\", force_remount=True).\n"
          ]
        },
        {
          "output_type": "display_data",
          "data": {
            "text/plain": [
              "<Figure size 640x480 with 1 Axes>"
            ],
            "image/png": "[encoded data removed]"
          },
          "metadata": {}
        }
      ]
    },
    {
      "cell_type": "code",
      "source": [
        "import pandas as pd\n",
        "from sklearn.model_selection import train_test_split\n",
        "from sklearn.linear_model import LinearRegression\n",
        "from sklearn.metrics import mean_squared_error, r2_score\n",
        "\n",
        "\n",
        "data = pd.read_csv('/content/drive/MyDrive/sub.csv')\n",
        "\n",
        "all_predicted_test_id = linear_model.predict(data['price'].values.reshape(-1, 1))\n",
        "mse = mean_squared_error(data['test_id'], all_predicted_test_id)\n",
        "r2 = r2_score(data['test_id'], all_predicted_test_id)\n",
        "\n",
        "print(\"Mean Squared Error:\", mse)\n",
        "print(\"R-squared:\", r2)"
      ],
      "metadata": {
        "colab": {
          "base_uri": "https://localhost:8080/"
        },
        "id": "9pWX6hDwMOYJ",
        "outputId": "6614d909-3ac4-4b69-f5fa-d68fb0d3822d"
      },
      "execution_count": null,
      "outputs": [
        {
          "output_type": "stream",
          "name": "stdout",
          "text": [
            "Mean Squared Error: 160230014147.78302\n",
            "R-squared: -2.9995285630764683\n"
          ]
        }
      ]
    },
    {
      "source": [
        "import pandas as pd\n",
        "from sklearn.metrics import confusion_matrix\n",
        "import matplotlib.pyplot as plt\n",
        "import seaborn as sns\n",
        "from sklearn.model_selection import train_test_split\n",
        "from sklearn.linear_model import LinearRegression\n",
        "\n",
        "data = pd.read_csv('/content/drive/MyDrive/sub.csv')\n",
        "\n",
        "\n",
        "X = data['price'].values.reshape(-1, 1)\n",
        "y = data['test_id']\n",
        "X_train, X_test, y_train, y_test = train_test_split(X, y, test_size=0.2, random_state=42)\n",
        "\n",
        "linear_model = LinearRegression()\n",
        "linear_model.fit(X_train, y_train) l\n",
        "\n",
        "def categorize_test_id (test_id ):\n",
        "    if  test_id>= 1:\n",
        "        return 'High'\n",
        "    elif test_id >= 10:\n",
        "        return 'Medium'\n",
        "    else:\n",
        "        return 'Low'\n",
        "\n",
        "data['test_id Category'] = data['test_id'].apply(categorize_test_id)\n",
        "\n",
        "\n",
        "all_predicted_test_id = linear_model.predict(data['price'].values.reshape(-1, 1))\n",
        "\n",
        "predicted_categories = [categorize_test_id(test_id) for test_id in all_predicted_test_id]\n",
        "\n",
        "confusion_matrix = confusion_matrix(data['test_id Category'], predicted_categories)\n",
        "\n",
        "print(confusion_matrix)\n",
        "\n",
        "sns.heatmap(confusion_matrix, annot=True, cmap='Blues',\n",
        "            xticklabels=['High', 'Medium', 'Low'],\n",
        "            yticklabels=['High', 'Medium', 'Low'])\n",
        "plt.xlabel('Predicted test_id Category')\n",
        "plt.ylabel('Actual test_id Category')\n",
        "plt.title('Confusion Matrix')\n",
        "plt.show()"
      ],
      "cell_type": "code",
      "metadata": {
        "colab": {
          "base_uri": "https://localhost:8080/",
          "height": 507
        },
        "id": "F-jC0I60uARl",
        "outputId": "fb93e928-b99d-4e32-9620-fe1ed5fedfa5"
      },
      "execution_count": null,
      "outputs": [
        {
          "output_type": "stream",
          "name": "stdout",
          "text": [
            "[[693358      0]\n",
            " [     1      0]]\n"
          ]
        },
        {
          "output_type": "display_data",
          "data": {
            "text/plain": [
              "<Figure size 640x480 with 2 Axes>"
            ],
            "image/png": "[encoded data removed]"
          },
          "metadata": {}
        }
      ]
    },
    {
      "cell_type": "code",
      "source": [
        "df=pd.read_csv('/content/drive/MyDrive/Nutrition__Physical_Activity__and_Obesity_-_Behavioral_Risk_Factor_Surveillance_System.csv.zip')\n",
        "print(df.head())"
      ],
      "metadata": {
        "colab": {
          "base_uri": "https://localhost:8080/"
        },
        "id": "NO2hZlWIuT99",
        "outputId": "43346f7f-1c88-4de9-fdd8-7911157a5a0c"
      },
      "execution_count": null,
      "outputs": [
        {
          "output_type": "stream",
          "name": "stdout",
          "text": [
            "   YearStart  YearEnd LocationAbbr LocationDesc  \\\n",
            "0       2011     2011           AL      Alabama   \n",
            "1       2011     2011           AL      Alabama   \n",
            "2       2011     2011           AL      Alabama   \n",
            "3       2011     2011           AL      Alabama   \n",
            "4       2011     2011           AL      Alabama   \n",
            "\n",
            "                                   Datasource                    Class  \\\n",
            "0  Behavioral Risk Factor Surveillance System  Obesity / Weight Status   \n",
            "1  Behavioral Risk Factor Surveillance System  Obesity / Weight Status   \n",
            "2  Behavioral Risk Factor Surveillance System  Obesity / Weight Status   \n",
            "3  Behavioral Risk Factor Surveillance System  Obesity / Weight Status   \n",
            "4  Behavioral Risk Factor Surveillance System  Obesity / Weight Status   \n",
            "\n",
            "                     Topic                                           Question  \\\n",
            "0  Obesity / Weight Status  Percent of adults aged 18 years and older who ...   \n",
            "1  Obesity / Weight Status  Percent of adults aged 18 years and older who ...   \n",
            "2  Obesity / Weight Status  Percent of adults aged 18 years and older who ...   \n",
            "3  Obesity / Weight Status  Percent of adults aged 18 years and older who ...   \n",
            "4  Obesity / Weight Status  Percent of adults aged 18 years and older who ...   \n",
            "\n",
            "   Data_Value_Unit Data_Value_Type  ...  \\\n",
            "0              NaN           Value  ...   \n",
            "1              NaN           Value  ...   \n",
            "2              NaN           Value  ...   \n",
            "3              NaN           Value  ...   \n",
            "4              NaN           Value  ...   \n",
            "\n",
            "                               GeoLocation  ClassID TopicID QuestionID  \\\n",
            "0  (32.84057112200048, -86.63186076199969)      OWS    OWS1       Q036   \n",
            "1  (32.84057112200048, -86.63186076199969)      OWS    OWS1       Q036   \n",
            "2  (32.84057112200048, -86.63186076199969)      OWS    OWS1       Q036   \n",
            "3  (32.84057112200048, -86.63186076199969)      OWS    OWS1       Q036   \n",
            "4  (32.84057112200048, -86.63186076199969)      OWS    OWS1       Q036   \n",
            "\n",
            "   DataValueTypeID  LocationID  StratificationCategory1  \\\n",
            "0            VALUE           1                    Total   \n",
            "1            VALUE           1                   Gender   \n",
            "2            VALUE           1                   Gender   \n",
            "3            VALUE           1                Education   \n",
            "4            VALUE           1                Education   \n",
            "\n",
            "         Stratification1 StratificationCategoryId1 StratificationID1  \n",
            "0                  Total                       OVR           OVERALL  \n",
            "1                   Male                       GEN              MALE  \n",
            "2                 Female                       GEN            FEMALE  \n",
            "3  Less than high school                       EDU             EDUHS  \n",
            "4   High school graduate                       EDU         EDUHSGRAD  \n",
            "\n",
            "[5 rows x 33 columns]\n"
          ]
        }
      ]
    },
    {
      "cell_type": "code",
      "source": [
        "df.info()"
      ],
      "metadata": {
        "colab": {
          "base_uri": "https://localhost:8080/"
        },
        "id": "Y7pl5tp1wWbB",
        "outputId": "ef007900-9373-4f92-c0a2-149b11d3f6f9"
      },
      "execution_count": null,
      "outputs": [
        {
          "output_type": "stream",
          "name": "stdout",
          "text": [
            "<class 'pandas.core.frame.DataFrame'>\n",
            "RangeIndex: 53392 entries, 0 to 53391\n",
            "Data columns (total 33 columns):\n",
            " #   Column                      Non-Null Count  Dtype  \n",
            "---  ------                      --------------  -----  \n",
            " 0   YearStart                   53392 non-null  int64  \n",
            " 1   YearEnd                     53392 non-null  int64  \n",
            " 2   LocationAbbr                53392 non-null  object \n",
            " 3   LocationDesc                53392 non-null  object \n",
            " 4   Datasource                  53392 non-null  object \n",
            " 5   Class                       53392 non-null  object \n",
            " 6   Topic                       53392 non-null  object \n",
            " 7   Question                    53392 non-null  object \n",
            " 8   Data_Value_Unit             0 non-null      float64\n",
            " 9   Data_Value_Type             53392 non-null  object \n",
            " 10  Data_Value                  48346 non-null  float64\n",
            " 11  Data_Value_Alt              48346 non-null  float64\n",
            " 12  Data_Value_Footnote_Symbol  5046 non-null   object \n",
            " 13  Data_Value_Footnote         5046 non-null   object \n",
            " 14  Low_Confidence_Limit        48346 non-null  float64\n",
            " 15  High_Confidence_Limit       48346 non-null  float64\n",
            " 16  Sample_Size                 48346 non-null  float64\n",
            " 17  Total                       1907 non-null   object \n",
            " 18  Age(years)                  11438 non-null  object \n",
            " 19  Education                   7628 non-null   object \n",
            " 20  Gender                      3814 non-null   object \n",
            " 21  Income                      13349 non-null  object \n",
            " 22  Race/Ethnicity              15256 non-null  object \n",
            " 23  GeoLocation                 52384 non-null  object \n",
            " 24  ClassID                     53392 non-null  object \n",
            " 25  TopicID                     53392 non-null  object \n",
            " 26  QuestionID                  53392 non-null  object \n",
            " 27  DataValueTypeID             53392 non-null  object \n",
            " 28  LocationID                  53392 non-null  int64  \n",
            " 29  StratificationCategory1     53392 non-null  object \n",
            " 30  Stratification1             53392 non-null  object \n",
            " 31  StratificationCategoryId1   53392 non-null  object \n",
            " 32  StratificationID1           53392 non-null  object \n",
            "dtypes: float64(6), int64(3), object(24)\n",
            "memory usage: 13.4+ MB\n"
          ]
        }
      ]
    },
    {
      "cell_type": "code",
      "source": [
        "df.isnull().sum()"
      ],
      "metadata": {
        "colab": {
          "base_uri": "https://localhost:8080/",
          "height": 1000
        },
        "id": "MSNOvijhwwg9",
        "outputId": "662c9d2b-aa13-43bc-b5e1-6a6c47478fdb"
      },
      "execution_count": null,
      "outputs": [
        {
          "output_type": "execute_result",
          "data": {
            "text/plain": [
              "YearStart                         0\n",
              "YearEnd                           0\n",
              "LocationAbbr                      0\n",
              "LocationDesc                      0\n",
              "Datasource                        0\n",
              "Class                             0\n",
              "Topic                             0\n",
              "Question                          0\n",
              "Data_Value_Unit               53392\n",
              "Data_Value_Type                   0\n",
              "Data_Value                     5046\n",
              "Data_Value_Alt                 5046\n",
              "Data_Value_Footnote_Symbol    48346\n",
              "Data_Value_Footnote           48346\n",
              "Low_Confidence_Limit           5046\n",
              "High_Confidence_Limit          5046\n",
              "Sample_Size                    5046\n",
              "Total                         51485\n",
              "Age(years)                    41954\n",
              "Education                     45764\n",
              "Gender                        49578\n",
              "Income                        40043\n",
              "Race/Ethnicity                38136\n",
              "GeoLocation                    1008\n",
              "ClassID                           0\n",
              "TopicID                           0\n",
              "QuestionID                        0\n",
              "DataValueTypeID                   0\n",
              "LocationID                        0\n",
              "StratificationCategory1           0\n",
              "Stratification1                   0\n",
              "StratificationCategoryId1         0\n",
              "StratificationID1                 0\n",
              "dtype: int64"
            ],
            "text/html": [
              "<div>\n",
              "<style scoped>\n",
              "    .dataframe tbody tr th:only-of-type {\n",
              "        vertical-align: middle;\n",
              "    }\n",
              "\n",
              "    .dataframe tbody tr th {\n",
              "        vertical-align: top;\n",
              "    }\n",
              "\n",
              "    .dataframe thead th {\n",
              "        text-align: right;\n",
              "    }\n",
              "</style>\n",
              "<table border=\"1\" class=\"dataframe\">\n",
              "  <thead>\n",
              "    <tr style=\"text-align: right;\">\n",
              "      <th></th>\n",
              "      <th>0</th>\n",
              "    </tr>\n",
              "  </thead>\n",
              "  <tbody>\n",
              "    <tr>\n",
              "      <th>YearStart</th>\n",
              "      <td>0</td>\n",
              "    </tr>\n",
              "    <tr>\n",
              "      <th>YearEnd</th>\n",
              "      <td>0</td>\n",
              "    </tr>\n",
              "    <tr>\n",
              "      <th>LocationAbbr</th>\n",
              "      <td>0</td>\n",
              "    </tr>\n",
              "    <tr>\n",
              "      <th>LocationDesc</th>\n",
              "      <td>0</td>\n",
              "    </tr>\n",
              "    <tr>\n",
              "      <th>Datasource</th>\n",
              "      <td>0</td>\n",
              "    </tr>\n",
              "    <tr>\n",
              "      <th>Class</th>\n",
              "      <td>0</td>\n",
              "    </tr>\n",
              "    <tr>\n",
              "      <th>Topic</th>\n",
              "      <td>0</td>\n",
              "    </tr>\n",
              "    <tr>\n",
              "      <th>Question</th>\n",
              "      <td>0</td>\n",
              "    </tr>\n",
              "    <tr>\n",
              "      <th>Data_Value_Unit</th>\n",
              "      <td>53392</td>\n",
              "    </tr>\n",
              "    <tr>\n",
              "      <th>Data_Value_Type</th>\n",
              "      <td>0</td>\n",
              "    </tr>\n",
              "    <tr>\n",
              "      <th>Data_Value</th>\n",
              "      <td>5046</td>\n",
              "    </tr>\n",
              "    <tr>\n",
              "      <th>Data_Value_Alt</th>\n",
              "      <td>5046</td>\n",
              "    </tr>\n",
              "    <tr>\n",
              "      <th>Data_Value_Footnote_Symbol</th>\n",
              "      <td>48346</td>\n",
              "    </tr>\n",
              "    <tr>\n",
              "      <th>Data_Value_Footnote</th>\n",
              "      <td>48346</td>\n",
              "    </tr>\n",
              "    <tr>\n",
              "      <th>Low_Confidence_Limit</th>\n",
              "      <td>5046</td>\n",
              "    </tr>\n",
              "    <tr>\n",
              "      <th>High_Confidence_Limit</th>\n",
              "      <td>5046</td>\n",
              "    </tr>\n",
              "    <tr>\n",
              "      <th>Sample_Size</th>\n",
              "      <td>5046</td>\n",
              "    </tr>\n",
              "    <tr>\n",
              "      <th>Total</th>\n",
              "      <td>51485</td>\n",
              "    </tr>\n",
              "    <tr>\n",
              "      <th>Age(years)</th>\n",
              "      <td>41954</td>\n",
              "    </tr>\n",
              "    <tr>\n",
              "      <th>Education</th>\n",
              "      <td>45764</td>\n",
              "    </tr>\n",
              "    <tr>\n",
              "      <th>Gender</th>\n",
              "      <td>49578</td>\n",
              "    </tr>\n",
              "    <tr>\n",
              "      <th>Income</th>\n",
              "      <td>40043</td>\n",
              "    </tr>\n",
              "    <tr>\n",
              "      <th>Race/Ethnicity</th>\n",
              "      <td>38136</td>\n",
              "    </tr>\n",
              "    <tr>\n",
              "      <th>GeoLocation</th>\n",
              "      <td>1008</td>\n",
              "    </tr>\n",
              "    <tr>\n",
              "      <th>ClassID</th>\n",
              "      <td>0</td>\n",
              "    </tr>\n",
              "    <tr>\n",
              "      <th>TopicID</th>\n",
              "      <td>0</td>\n",
              "    </tr>\n",
              "    <tr>\n",
              "      <th>QuestionID</th>\n",
              "      <td>0</td>\n",
              "    </tr>\n",
              "    <tr>\n",
              "      <th>DataValueTypeID</th>\n",
              "      <td>0</td>\n",
              "    </tr>\n",
              "    <tr>\n",
              "      <th>LocationID</th>\n",
              "      <td>0</td>\n",
              "    </tr>\n",
              "    <tr>\n",
              "      <th>StratificationCategory1</th>\n",
              "      <td>0</td>\n",
              "    </tr>\n",
              "    <tr>\n",
              "      <th>Stratification1</th>\n",
              "      <td>0</td>\n",
              "    </tr>\n",
              "    <tr>\n",
              "      <th>StratificationCategoryId1</th>\n",
              "      <td>0</td>\n",
              "    </tr>\n",
              "    <tr>\n",
              "      <th>StratificationID1</th>\n",
              "      <td>0</td>\n",
              "    </tr>\n",
              "  </tbody>\n",
              "</table>\n",
              "</div><br><label><b>dtype:</b> int64</label>"
            ]
          },
          "metadata": {},
          "execution_count": 6
        }
      ]
    }
  ]
}