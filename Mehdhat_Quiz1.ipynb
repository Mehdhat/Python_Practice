{
  "nbformat": 4,
  "nbformat_minor": 0,
  "metadata": {
    "colab": {
      "provenance": []
    },
    "kernelspec": {
      "name": "python3",
      "display_name": "Python 3"
    },
    "language_info": {
      "name": "python"
    }
  },
  "cells": [
    {
      "source": [
        "import numpy as npy\n",
        "\n",
        "# square of the number greater than 50 and cube of the numbers less than 50\n",
        "\n",
        "arr = npy.random.randint(1, 100, size=(4, 4))\n",
        "\n",
        "def new_array(arr):\n",
        "  new_arr = npy.zeros_like(arr)\n",
        "  for i in range(arr.shape[0]):\n",
        "    for j in range(arr.shape[1]):\n",
        "      if arr[i, j] > 50:\n",
        "        new_arr[i, j] = arr[i, j] ** 2\n",
        "      else:\n",
        "        new_arr[i, j] = arr[i, j] ** 3\n",
        "  return new_arr\n",
        "\n",
        "new_arr = new_array(arr)\n",
        "print(\"\\n\")\n",
        "print(\"Previous Array:\\n\", arr)\n",
        "print(\"\\nNew Array values :\\n\", new_arr)"
      ],
      "cell_type": "code",
      "metadata": {
        "colab": {
          "base_uri": "https://localhost:8080/"
        },
        "id": "VjjCHVAGIMIt",
        "outputId": "207cda0f-23e2-4eaf-d7f4-9e49cb2c7e2f"
      },
      "execution_count": 22,
      "outputs": [
        {
          "output_type": "stream",
          "name": "stdout",
          "text": [
            "\n",
            "\n",
            "Previous Array:\n",
            " [[74 54 32  7]\n",
            " [72 67 88  3]\n",
            " [64 37  7 54]\n",
            " [74 85 39 76]]\n",
            "\n",
            "New Array values :\n",
            " [[ 5476  2916 32768   343]\n",
            " [ 5184  4489  7744    27]\n",
            " [ 4096 50653   343  2916]\n",
            " [ 5476  7225 59319  5776]]\n"
          ]
        }
      ]
    },
    {
      "cell_type": "code",
      "source": [
        "arr = npy.random.randint(1, 21, size=(5, 5))\n",
        "print(\"Original array:\\n\")\n",
        "print(arr)\n",
        "\n",
        "#sum of array element greater than 10 and sum of element less than 10\n",
        "\n",
        "def row_wise_cond_agg(arr):\n",
        "  result = []\n",
        "  for row in arr:\n",
        "    sum_greater_10 = npy.sum(row[row > 10])\n",
        "    sum_less_equal_10 = npy.sum(row[row <= 10])\n",
        "    result.append([sum_greater_10, sum_less_equal_10])\n",
        "  return npy.array(result)\n",
        "\n",
        "result = row_wise_cond_agg(arr)\n",
        "\n",
        "print(\"\\nResult:\\n\", result)\n"
      ],
      "metadata": {
        "colab": {
          "base_uri": "https://localhost:8080/"
        },
        "id": "CwgjfmCJIesU",
        "outputId": "0f18eed0-5c82-4d43-85ac-0349b5c8f80f"
      },
      "execution_count": 23,
      "outputs": [
        {
          "output_type": "stream",
          "name": "stdout",
          "text": [
            "Original array:\n",
            "\n",
            "[[ 6 10 17 17  1]\n",
            " [19 11 19  1  9]\n",
            " [18  6  2 16 17]\n",
            " [ 7  7  4 14 18]\n",
            " [10 18 12  3  9]]\n",
            "\n",
            "Result:\n",
            " [[34 17]\n",
            " [49 10]\n",
            " [51  8]\n",
            " [32 18]\n",
            " [30 22]]\n"
          ]
        }
      ]
    },
    {
      "cell_type": "code",
      "source": [
        "arr = npy.random.randint(1, 51, size=(3, 3))\n",
        "print(\"Previous array:\\n\", arr)\n",
        "print(arr)\n",
        "\n",
        "#average of elements greater than 25 and average of elements less than or equal to 25\n",
        "\n",
        "sum_g_25 = 0\n",
        "sum_l_equal_25 = 0\n",
        "count_g_25 = 0\n",
        "count_l_equal_25 = 0\n",
        "for i in range(arr.shape[0]):\n",
        "  for j in range(arr.shape[1]):\n",
        "    if arr[i, j] > 25:\n",
        "      sum_g_25 += arr[i, j]\n",
        "      count_g_25 += 1\n",
        "    elif arr[i, j] <= 25:\n",
        "      sum_l_equal_25 += arr[i, j]\n",
        "      count_l_equal_25 += 1\n",
        "\n",
        "if count_g_25 > 0:\n",
        "  avg_greater_25 = sum_g_25 / count_g_25\n",
        "else:\n",
        "  avg_g_25 = 0\n",
        "\n",
        "if count_l_equal_25 > 0:\n",
        "  avg_less_equal_25 = sum_l_equal_25 / count_l_equal_25\n",
        "else:\n",
        "  avg_less_equal_25 = 0\n",
        "\n",
        "print(\"\\nAverage of elements greater than 25:\", avg_greater_25)\n",
        "print(\"Average of elements less than or equal to 25:\", avg_less_equal_25)\n"
      ],
      "metadata": {
        "colab": {
          "base_uri": "https://localhost:8080/"
        },
        "id": "FNzGQBOaJfVA",
        "outputId": "fea2007b-cf2a-4e08-e4ec-805c588b0065"
      },
      "execution_count": 24,
      "outputs": [
        {
          "output_type": "stream",
          "name": "stdout",
          "text": [
            "Previous array:\n",
            " [[13 37 17]\n",
            " [39 38 44]\n",
            " [13 31 23]]\n",
            "[[13 37 17]\n",
            " [39 38 44]\n",
            " [13 31 23]]\n",
            "\n",
            "Average of elements greater than 25: 37.8\n",
            "Average of elements less than or equal to 25: 16.5\n"
          ]
        }
      ]
    },
    {
      "cell_type": "code",
      "source": [
        "#sales sheet\n",
        "\n",
        "products_list = [\"Product one\", \"Product two\", \"Product three\", \"Product four\", \"Product five\"]\n",
        "\n",
        "units_sold = npy.random.randint(1, 20, size=len(products_list))\n",
        "\n",
        "unit_prices = npy.random.uniform(10, 50, size=len(products_list))\n",
        "\n",
        "total = units_sold * unit_prices\n",
        "\n",
        "sales_sheet = {\n",
        "    \"Product\": products_list,\n",
        "    \"Units Sold\": units_sold,\n",
        "    \"Unit Price\": unit_prices,\n",
        "    \"Total Sales\": total\n",
        "}\n",
        "\n",
        "print(sales_sheet)\n",
        "for key, values in sales_sheet.items():\n",
        "  print(\"\\n\")\n",
        "  print(f\"{key}: {values}\")\n"
      ],
      "metadata": {
        "colab": {
          "base_uri": "https://localhost:8080/"
        },
        "id": "sgdq-UqKMF4i",
        "outputId": "ba66353c-b5f8-4e8f-dbcd-8abd9ace6d00"
      },
      "execution_count": 25,
      "outputs": [
        {
          "output_type": "stream",
          "name": "stdout",
          "text": [
            "{'Product': ['Product one', 'Product two', 'Product three', 'Product four', 'Product five'], 'Units Sold': array([13,  3, 15,  8,  2]), 'Unit Price': array([30.1779468 , 38.52326534, 11.08469221, 34.91141717, 27.59071553]), 'Total Sales': array([392.31330834, 115.56979601, 166.27038322, 279.29133736,\n",
            "        55.18143107])}\n",
            "\n",
            "\n",
            "Product: ['Product one', 'Product two', 'Product three', 'Product four', 'Product five']\n",
            "\n",
            "\n",
            "Units Sold: [13  3 15  8  2]\n",
            "\n",
            "\n",
            "Unit Price: [30.1779468  38.52326534 11.08469221 34.91141717 27.59071553]\n",
            "\n",
            "\n",
            "Total Sales: [392.31330834 115.56979601 166.27038322 279.29133736  55.18143107]\n"
          ]
        }
      ]
    },
    {
      "cell_type": "code",
      "source": [
        "#factorial using while loop\n",
        "#from 1 to the nth number(inputted number)\n",
        "\n",
        "def factorial(n):\n",
        "  if n < 0:\n",
        "    return \"Not for negative numbers.\"\n",
        "  elif n == 0:\n",
        "    return 1\n",
        "  else:\n",
        "    value = 1\n",
        "    i = 1\n",
        "    while i <= n:\n",
        "      value *= i\n",
        "      i += 1\n",
        "    return value\n",
        "\n",
        "while True:\n",
        "  try:\n",
        "    number = int(input(\"Enter a positive integer: \"))\n",
        "    if number >= 0:\n",
        "      break\n",
        "    else:\n",
        "      print(\"Please enter a positive integer.\")\n",
        "  except ValueError:\n",
        "    print(\"Invalid input. Please enter an integer.\")\n",
        "\n",
        "fact_values = npy.array([factorial(i) for i in range(1, number + 1)])\n",
        "\n",
        "print(\"Factorial values from 1 to\", number, \":\", fact_values)\n",
        "print(\"\\n\")\n"
      ],
      "metadata": {
        "colab": {
          "base_uri": "https://localhost:8080/"
        },
        "id": "Ai8uGvRPRbdV",
        "outputId": "41a1cfd5-6810-4dcc-e913-453594379153"
      },
      "execution_count": 26,
      "outputs": [
        {
          "output_type": "stream",
          "name": "stdout",
          "text": [
            "Enter a positive integer: 13\n",
            "Factorial values from 1 to 13 : [         1          2          6         24        120        720\n",
            "       5040      40320     362880    3628800   39916800  479001600\n",
            " 6227020800]\n",
            "\n",
            "\n"
          ]
        }
      ]
    },
    {
      "cell_type": "code",
      "source": [
        "#give the prime number till the inputted nth number\n",
        "\n",
        "def num_prime(n):\n",
        "  if n <= 1:\n",
        "    return False\n",
        "  if n <= 3:\n",
        "    return True\n",
        "  if n % 2 == 0 or n % 3 == 0:\n",
        "    return False\n",
        "  i = 5\n",
        "  while i * i <= n:\n",
        "    if n % i == 0 or n % (i + 2) == 0:\n",
        "      return False\n",
        "    i += 6\n",
        "  return True\n",
        "\n",
        "def gen_primes(limit):\n",
        "  primes = []\n",
        "  for number in range(2, limit + 1):\n",
        "    if num_prime(number):\n",
        "      primes.append(number)\n",
        "  return npy.array(primes)\n",
        "\n",
        "nth = int(input(\"Enter the nth num \"))\n",
        "prime_numbers = gen_primes(nth)\n",
        "print(\"Prime numbers up to\", nth, \"are:\\n\", prime_numbers)\n"
      ],
      "metadata": {
        "colab": {
          "base_uri": "https://localhost:8080/"
        },
        "id": "GxjMNXGKYsMY",
        "outputId": "d17a96ce-a59c-4b03-8690-9c6302d0a2d5"
      },
      "execution_count": 27,
      "outputs": [
        {
          "output_type": "stream",
          "name": "stdout",
          "text": [
            "Enter the nth num 10\n",
            "Prime numbers up to 10 are:\n",
            " [2 3 5 7]\n"
          ]
        }
      ]
    }
  ]
}