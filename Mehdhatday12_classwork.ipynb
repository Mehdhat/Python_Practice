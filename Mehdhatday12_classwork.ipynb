{
  "cells": [
    {
      "cell_type": "code",
      "execution_count": null,
      "metadata": {
        "colab": {
          "base_uri": "https://localhost:8080/"
        },
        "id": "W_vG80mHh0pj",
        "outputId": "cf0a6f64-dc48-4df9-94c3-ba9976c26962"
      },
      "outputs": [
        {
          "name": "stderr",
          "output_type": "stream",
          "text": [
            "[nltk_data] Downloading package reuters to /root/nltk_data...\n"
          ]
        },
        {
          "data": {
            "text/plain": [
              "['acq',\n",
              " 'alum',\n",
              " 'barley',\n",
              " 'bop',\n",
              " 'carcass',\n",
              " 'castor-oil',\n",
              " 'cocoa',\n",
              " 'coconut',\n",
              " 'coconut-oil',\n",
              " 'coffee',\n",
              " 'copper',\n",
              " 'copra-cake',\n",
              " 'corn',\n",
              " 'cotton',\n",
              " 'cotton-oil',\n",
              " 'cpi',\n",
              " 'cpu',\n",
              " 'crude',\n",
              " 'dfl',\n",
              " 'dlr',\n",
              " 'dmk',\n",
              " 'earn',\n",
              " 'fuel',\n",
              " 'gas',\n",
              " 'gnp',\n",
              " 'gold',\n",
              " 'grain',\n",
              " 'groundnut',\n",
              " 'groundnut-oil',\n",
              " 'heat',\n",
              " 'hog',\n",
              " 'housing',\n",
              " 'income',\n",
              " 'instal-debt',\n",
              " 'interest',\n",
              " 'ipi',\n",
              " 'iron-steel',\n",
              " 'jet',\n",
              " 'jobs',\n",
              " 'l-cattle',\n",
              " 'lead',\n",
              " 'lei',\n",
              " 'lin-oil',\n",
              " 'livestock',\n",
              " 'lumber',\n",
              " 'meal-feed',\n",
              " 'money-fx',\n",
              " 'money-supply',\n",
              " 'naphtha',\n",
              " 'nat-gas',\n",
              " 'nickel',\n",
              " 'nkr',\n",
              " 'nzdlr',\n",
              " 'oat',\n",
              " 'oilseed',\n",
              " 'orange',\n",
              " 'palladium',\n",
              " 'palm-oil',\n",
              " 'palmkernel',\n",
              " 'pet-chem',\n",
              " 'platinum',\n",
              " 'potato',\n",
              " 'propane',\n",
              " 'rand',\n",
              " 'rape-oil',\n",
              " 'rapeseed',\n",
              " 'reserves',\n",
              " 'retail',\n",
              " 'rice',\n",
              " 'rubber',\n",
              " 'rye',\n",
              " 'ship',\n",
              " 'silver',\n",
              " 'sorghum',\n",
              " 'soy-meal',\n",
              " 'soy-oil',\n",
              " 'soybean',\n",
              " 'strategic-metal',\n",
              " 'sugar',\n",
              " 'sun-meal',\n",
              " 'sun-oil',\n",
              " 'sunseed',\n",
              " 'tea',\n",
              " 'tin',\n",
              " 'trade',\n",
              " 'veg-oil',\n",
              " 'wheat',\n",
              " 'wpi',\n",
              " 'yen',\n",
              " 'zinc']"
            ]
          },
          "execution_count": 1,
          "metadata": {},
          "output_type": "execute_result"
        }
      ],
      "source": [
        "import nltk\n",
        "nltk.download('reuters')\n",
        "\n",
        "from nltk.corpus import reuters\n",
        "reuters.categories()\n",
        "\n"
      ]
    },
    {
      "cell_type": "code",
      "execution_count": null,
      "metadata": {
        "id": "VO-JTzV5iT_j"
      },
      "outputs": [],
      "source": [
        "Xdocwords = []\n",
        "Y = []\n",
        "\n",
        "for category in reuters.categories():\n",
        "  for fileid in reuters.fileids(category):\n",
        "    Xdocwords.append(reuters.words(fileid))\n",
        "    Y.append(category)"
      ]
    },
    {
      "cell_type": "code",
      "execution_count": null,
      "metadata": {
        "colab": {
          "base_uri": "https://localhost:8080/"
        },
        "id": "Lso3qN5HiajS",
        "outputId": "3ab5af19-8896-4577-f3ea-2123f81df4ee"
      },
      "outputs": [
        {
          "name": "stdout",
          "output_type": "stream",
          "text": [
            "acq\n",
            "['MCDONNELL', 'DOUGLAS', '&', 'lt', ';', 'MD', '>', 'BUYS', 'COMPUTER', 'FIRM', 'McDonnell', 'Douglas', 'Corp', 'said', 'it', 'acquired', 'Frampton', 'Computer', 'Services', 'Ltd']\n"
          ]
        }
      ],
      "source": [
        "print(Y[100])\n",
        "print(Xdocwords[100][0:20])\n"
      ]
    },
    {
      "cell_type": "code",
      "execution_count": null,
      "metadata": {
        "colab": {
          "base_uri": "https://localhost:8080/"
        },
        "id": "BvuUYCLYigbL",
        "outputId": "8acde624-859a-49be-f1d8-3b321c47ff6d"
      },
      "outputs": [
        {
          "data": {
            "text/plain": [
              "13328"
            ]
          },
          "execution_count": 4,
          "metadata": {},
          "output_type": "execute_result"
        }
      ],
      "source": [
        "len(Xdocwords)"
      ]
    },
    {
      "cell_type": "code",
      "execution_count": null,
      "metadata": {
        "id": "eJv0cZd9j-zL"
      },
      "outputs": [],
      "source": [
        "Xdoc = []\n",
        "\n",
        "document_string = \"\"\n",
        "for doc in Xdocwords:\n",
        "  document_string = \"\"\n",
        "  for w in doc:\n",
        "    document_string += w + \" \"\n",
        "  Xdoc.append(document_string)"
      ]
    },
    {
      "cell_type": "code",
      "execution_count": null,
      "metadata": {
        "id": "6G5UWgLYyogC"
      },
      "outputs": [],
      "source": [
        "from sklearn.feature_extraction.text import CountVectorizer\n",
        "matrix = CountVectorizer(max_features=200)\n",
        "X = matrix.fit_transform(Xdoc).toarray()"
      ]
    },
    {
      "cell_type": "code",
      "execution_count": null,
      "metadata": {
        "colab": {
          "base_uri": "https://localhost:8080/"
        },
        "id": "INduhhReyukg",
        "outputId": "1335bb4a-169e-4e36-ea6e-3947c04a63fd"
      },
      "outputs": [
        {
          "name": "stdout",
          "output_type": "stream",
          "text": [
            "[[0 0 0 ... 0 0 1]\n",
            " [0 0 0 ... 1 2 0]\n",
            " [1 0 0 ... 0 1 0]\n",
            " ...\n",
            " [1 0 1 ... 1 0 0]\n",
            " [2 0 0 ... 0 0 0]\n",
            " [1 0 0 ... 0 0 0]]\n"
          ]
        }
      ],
      "source": [
        "print(X)"
      ]
    },
    {
      "cell_type": "code",
      "execution_count": null,
      "metadata": {
        "id": "QUPsacLTyybx"
      },
      "outputs": [],
      "source": [
        "from sklearn.model_selection import train_test_split\n",
        "X_train, X_test, y_train, y_test = train_test_split(X, Y)"
      ]
    },
    {
      "cell_type": "code",
      "execution_count": null,
      "metadata": {
        "colab": {
          "base_uri": "https://localhost:8080/"
        },
        "id": "4ULa2Pnry3tp",
        "outputId": "02a457c0-b17d-4379-e2af-d164e4debbc6"
      },
      "outputs": [
        {
          "name": "stdout",
          "output_type": "stream",
          "text": [
            "9996\n",
            "3332\n"
          ]
        }
      ],
      "source": [
        "print(len(X_train))\n",
        "print(len(X_test))"
      ]
    },
    {
      "cell_type": "code",
      "execution_count": null,
      "metadata": {
        "colab": {
          "base_uri": "https://localhost:8080/"
        },
        "id": "TA5YMhQDy8_n",
        "outputId": "ed665ff2-a59b-4675-d1b6-297f54d49b05"
      },
      "outputs": [
        {
          "name": "stdout",
          "output_type": "stream",
          "text": [
            "['earn', 'livestock', 'earn', 'earn', 'earn', 'coconut', 'crude', 'cocoa', 'ipi', 'interest']\n",
            "['acq' 'carcass' 'earn' 'earn' 'earn' 'copra-cake' 'fuel' 'ship' 'wpi'\n",
            " 'interest']\n"
          ]
        }
      ],
      "source": [
        "from sklearn.naive_bayes import MultinomialNB\n",
        "classifier = MultinomialNB()\n",
        "\n",
        "\n",
        "classifier.fit(X_train, y_train)\n",
        "\n",
        "# predict class\n",
        "y_pred = classifier.predict(X_test)\n",
        "\n",
        "\n",
        "print(y_test[5:15])\n",
        "print(y_pred[5:15])\n"
      ]
    },
    {
      "cell_type": "code",
      "execution_count": null,
      "metadata": {
        "colab": {
          "base_uri": "https://localhost:8080/"
        },
        "id": "UXv1bAZby_dx",
        "outputId": "7d16d1f5-3103-4153-b707-1f4d3d5fe107"
      },
      "outputs": [
        {
          "name": "stderr",
          "output_type": "stream",
          "text": [
            "/usr/local/lib/python3.10/dist-packages/sklearn/metrics/_classification.py:1471: UndefinedMetricWarning: Precision and F-score are ill-defined and being set to 0.0 in labels with no predicted samples. Use `zero_division` parameter to control this behavior.\n",
            "  _warn_prf(average, modifier, msg_start, len(result))\n",
            "/usr/local/lib/python3.10/dist-packages/sklearn/metrics/_classification.py:1471: UndefinedMetricWarning: Recall and F-score are ill-defined and being set to 0.0 in labels with no true samples. Use `zero_division` parameter to control this behavior.\n",
            "  _warn_prf(average, modifier, msg_start, len(result))\n",
            "/usr/local/lib/python3.10/dist-packages/sklearn/metrics/_classification.py:1471: UndefinedMetricWarning: Precision and F-score are ill-defined and being set to 0.0 in labels with no predicted samples. Use `zero_division` parameter to control this behavior.\n",
            "  _warn_prf(average, modifier, msg_start, len(result))\n",
            "/usr/local/lib/python3.10/dist-packages/sklearn/metrics/_classification.py:1471: UndefinedMetricWarning: Recall and F-score are ill-defined and being set to 0.0 in labels with no true samples. Use `zero_division` parameter to control this behavior.\n",
            "  _warn_prf(average, modifier, msg_start, len(result))\n",
            "/usr/local/lib/python3.10/dist-packages/sklearn/metrics/_classification.py:1471: UndefinedMetricWarning: Precision and F-score are ill-defined and being set to 0.0 in labels with no predicted samples. Use `zero_division` parameter to control this behavior.\n",
            "  _warn_prf(average, modifier, msg_start, len(result))\n",
            "/usr/local/lib/python3.10/dist-packages/sklearn/metrics/_classification.py:1471: UndefinedMetricWarning: Recall and F-score are ill-defined and being set to 0.0 in labels with no true samples. Use `zero_division` parameter to control this behavior.\n",
            "  _warn_prf(average, modifier, msg_start, len(result))\n"
          ]
        }
      ],
      "source": [
        "from sklearn.metrics import confusion_matrix, classification_report, accuracy_score\n",
        "cm = confusion_matrix(y_test, y_pred)\n",
        "cr = classification_report(y_test, y_pred)\n",
        "\n",
        "accuracy = accuracy_score(y_test, y_pred)"
      ]
    },
    {
      "cell_type": "code",
      "execution_count": null,
      "metadata": {
        "colab": {
          "base_uri": "https://localhost:8080/"
        },
        "id": "H2Z6h76FzHaH",
        "outputId": "2ed65c90-2d82-47ec-c1f0-b32818e15734"
      },
      "outputs": [
        {
          "name": "stdout",
          "output_type": "stream",
          "text": [
            "                 precision    recall  f1-score   support\n",
            "\n",
            "            acq       0.74      0.90      0.81       558\n",
            "           alum       0.00      0.00      0.00        13\n",
            "         barley       0.08      0.08      0.08        12\n",
            "            bop       0.27      0.65      0.38        20\n",
            "        carcass       0.10      0.24      0.14        17\n",
            "     castor-oil       0.00      0.00      0.00         0\n",
            "          cocoa       0.56      0.53      0.55        17\n",
            "        coconut       0.00      0.00      0.00         4\n",
            "    coconut-oil       0.00      0.00      0.00         2\n",
            "         coffee       0.50      0.48      0.49        33\n",
            "         copper       0.06      0.06      0.06        17\n",
            "     copra-cake       0.00      0.00      0.00         0\n",
            "           corn       0.21      0.12      0.16        64\n",
            "         cotton       0.00      0.00      0.00        15\n",
            "     cotton-oil       0.00      0.00      0.00         0\n",
            "            cpi       0.30      0.14      0.19        21\n",
            "            cpu       0.00      0.00      0.00         0\n",
            "          crude       0.59      0.35      0.44       144\n",
            "            dfl       0.00      0.00      0.00         0\n",
            "            dlr       0.38      0.45      0.41        47\n",
            "            dmk       0.17      0.50      0.25         2\n",
            "           earn       0.96      0.82      0.89      1027\n",
            "           fuel       0.12      0.25      0.17         8\n",
            "            gas       0.29      0.22      0.25        18\n",
            "            gnp       0.35      0.48      0.41        29\n",
            "           gold       0.39      0.35      0.37        34\n",
            "          grain       0.30      0.24      0.27       154\n",
            "      groundnut       0.00      0.00      0.00         3\n",
            "  groundnut-oil       0.00      0.00      0.00         0\n",
            "           heat       0.60      0.50      0.55         6\n",
            "            hog       0.29      0.22      0.25         9\n",
            "        housing       0.33      0.25      0.29         8\n",
            "         income       0.00      0.00      0.00         2\n",
            "    instal-debt       0.00      0.00      0.00         1\n",
            "       interest       0.53      0.69      0.60       113\n",
            "            ipi       0.45      0.59      0.51        17\n",
            "     iron-steel       0.17      0.11      0.13         9\n",
            "            jet       0.00      0.00      0.00         1\n",
            "           jobs       0.50      0.24      0.32        17\n",
            "       l-cattle       0.00      0.00      0.00         2\n",
            "           lead       0.12      0.12      0.12         8\n",
            "            lei       0.20      0.50      0.29         2\n",
            "        lin-oil       0.00      0.00      0.00         1\n",
            "      livestock       0.11      0.08      0.09        26\n",
            "         lumber       0.00      0.00      0.00         3\n",
            "      meal-feed       0.00      0.00      0.00        15\n",
            "       money-fx       0.52      0.24      0.33       181\n",
            "   money-supply       0.70      0.71      0.70        45\n",
            "        naphtha       0.00      0.00      0.00         0\n",
            "        nat-gas       0.13      0.32      0.19        28\n",
            "         nickel       0.00      0.00      0.00         3\n",
            "            nkr       0.00      0.00      0.00         1\n",
            "          nzdlr       0.00      0.00      0.00         2\n",
            "            oat       0.00      0.00      0.00         1\n",
            "        oilseed       0.33      0.03      0.05        39\n",
            "         orange       0.00      0.00      0.00         4\n",
            "      palladium       0.00      0.00      0.00         2\n",
            "       palm-oil       0.23      0.25      0.24        12\n",
            "     palmkernel       0.00      0.00      0.00         0\n",
            "       pet-chem       0.06      0.14      0.09         7\n",
            "       platinum       0.00      0.00      0.00         2\n",
            "         potato       0.00      0.00      0.00         1\n",
            "           rand       0.00      0.00      0.00         1\n",
            "       rape-oil       0.00      0.00      0.00         2\n",
            "       rapeseed       0.06      0.75      0.12         4\n",
            "       reserves       0.42      0.76      0.54        17\n",
            "         retail       0.40      0.40      0.40         5\n",
            "           rice       0.00      0.00      0.00        18\n",
            "         rubber       0.41      0.50      0.45        14\n",
            "            rye       0.00      0.00      0.00         1\n",
            "           ship       0.28      0.55      0.37        69\n",
            "         silver       0.00      0.00      0.00         8\n",
            "        sorghum       0.00      0.00      0.00         7\n",
            "       soy-meal       0.00      0.00      0.00        10\n",
            "        soy-oil       0.00      0.00      0.00         4\n",
            "        soybean       0.13      0.08      0.10        26\n",
            "strategic-metal       0.33      0.10      0.15        10\n",
            "          sugar       0.38      0.30      0.33        37\n",
            "       sun-meal       0.00      0.00      0.00         0\n",
            "        sun-oil       0.00      0.00      0.00         1\n",
            "        sunseed       0.12      1.00      0.21         2\n",
            "            tea       0.33      0.33      0.33         3\n",
            "            tin       0.11      0.17      0.13         6\n",
            "          trade       0.68      0.58      0.63       125\n",
            "        veg-oil       0.38      0.24      0.29        25\n",
            "          wheat       0.32      0.29      0.31        79\n",
            "            wpi       0.16      0.80      0.27         5\n",
            "            yen       0.19      0.50      0.28        14\n",
            "           zinc       0.00      0.00      0.00        12\n",
            "\n",
            "       accuracy                           0.58      3332\n",
            "      macro avg       0.18      0.22      0.18      3332\n",
            "   weighted avg       0.62      0.58      0.58      3332\n",
            "\n",
            "[[501   2   0 ...   0   0   1]\n",
            " [  0   0   1 ...   0   0   0]\n",
            " [  0   0   1 ...   0   0   0]\n",
            " ...\n",
            " [  0   0   0 ...   4   0   0]\n",
            " [  0   0   0 ...   0   7   0]\n",
            " [  0   1   0 ...   0   0   0]]\n"
          ]
        }
      ],
      "source": [
        "print(cr)\n",
        "print(cm)"
      ]
    }
  ],
  "metadata": {
    "colab": {
      "provenance": []
    },
    "kernelspec": {
      "display_name": "Python 3",
      "name": "python3"
    },
    "language_info": {
      "name": "python"
    }
  },
  "nbformat": 4,
  "nbformat_minor": 0
}